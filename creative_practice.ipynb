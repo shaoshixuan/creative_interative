{
 "cells": [
  {
   "cell_type": "code",
   "execution_count": 1,
   "id": "5795cdf5",
   "metadata": {},
   "outputs": [
    {
     "name": "stdout",
     "output_type": "stream",
     "text": [
      "(1, 1.32, 'shun')\n"
     ]
    }
   ],
   "source": [
    "tuple = (1,1.32,'shun')\n",
    "print(tuple)"
   ]
  },
  {
   "cell_type": "code",
   "execution_count": 2,
   "id": "cdb52d73",
   "metadata": {},
   "outputs": [
    {
     "name": "stdout",
     "output_type": "stream",
     "text": [
      "[1, 1.32, 2, 'cuc']\n"
     ]
    }
   ],
   "source": [
    "lis = [1,1.32,2,'cuc']\n",
    "print(lis)"
   ]
  },
  {
   "cell_type": "code",
   "execution_count": 3,
   "id": "14c06e34",
   "metadata": {},
   "outputs": [
    {
     "name": "stdout",
     "output_type": "stream",
     "text": [
      "[0, 1.2, 3, 4, 9]\n"
     ]
    }
   ],
   "source": [
    "mylist=[1.2,3,4,9,0]\n",
    "print(sorted(mylist))"
   ]
  },
  {
   "cell_type": "code",
   "execution_count": 4,
   "id": "73f7dab6",
   "metadata": {},
   "outputs": [
    {
     "name": "stdout",
     "output_type": "stream",
     "text": [
      "[100, 95, 78, 93, 89]\n",
      "93\n",
      "[100, 95, 78, 93, 89, 50]\n"
     ]
    }
   ],
   "source": [
    "score_list = [100,95,78,93,89]\n",
    "print(score_list)\n",
    "print(score_list[3])\n",
    "score_list.append(50)\n",
    "print(score_list)"
   ]
  },
  {
   "cell_type": "code",
   "execution_count": 5,
   "id": "7468add5",
   "metadata": {},
   "outputs": [
    {
     "name": "stdout",
     "output_type": "stream",
     "text": [
      "[100, 95, 78, 93, 89, 50, [1, 2, 3, 'cucu', True]]\n"
     ]
    }
   ],
   "source": [
    "score_list.append([1,2,3,'cucu',True])\n",
    "print(score_list)"
   ]
  },
  {
   "cell_type": "code",
   "execution_count": 6,
   "id": "f1aa1e31",
   "metadata": {},
   "outputs": [
    {
     "name": "stdout",
     "output_type": "stream",
     "text": [
      "[100, 95, 78, 93, 89, 50, [1, 2, 3, 'cucu', True], [11, 22, 66, [33, 99, 30]]]\n"
     ]
    }
   ],
   "source": [
    "list2=[11,22,66]\n",
    "list2.append([33,99,30])\n",
    "score_list.append(list2)\n",
    "print(score_list)"
   ]
  },
  {
   "cell_type": "code",
   "execution_count": 7,
   "id": "6041d9b2",
   "metadata": {},
   "outputs": [
    {
     "name": "stdout",
     "output_type": "stream",
     "text": [
      "[100, 78, 93, 89, 50, [1, 2, 3, 'cucu', True], [11, 22, 66, [33, 99, 30]]]\n"
     ]
    }
   ],
   "source": [
    "score_list.remove(95)\n",
    "print(score_list)"
   ]
  },
  {
   "cell_type": "code",
   "execution_count": 8,
   "id": "501258d8",
   "metadata": {},
   "outputs": [
    {
     "name": "stdout",
     "output_type": "stream",
     "text": [
      "dict_keys(['pet', 'dog', 'mary'])\n",
      "dict_values([20, 30, 50])\n",
      "20\n"
     ]
    }
   ],
   "source": [
    "dic={'pet':20,'dog':30,'mary':50}\n",
    "print(dic.keys())\n",
    "print(dic.values())\n",
    "print(dic['pet'])\n"
   ]
  },
  {
   "cell_type": "code",
   "execution_count": 9,
   "id": "5d0746d5",
   "metadata": {},
   "outputs": [
    {
     "name": "stdout",
     "output_type": "stream",
     "text": [
      "[{'pet': 20, 'dog': 30, 'mary': 50}]\n"
     ]
    }
   ],
   "source": [
    "lis=[]\n",
    "lis.append(dic)\n",
    "print(lis)"
   ]
  },
  {
   "cell_type": "code",
   "execution_count": 11,
   "id": "7f0e6718",
   "metadata": {},
   "outputs": [
    {
     "name": "stdout",
     "output_type": "stream",
     "text": [
      "[{'pet': 20, 'dog': 30, 'mary': 50}, {'pet': 20, 'dog': 40, 'mary': 60}]\n"
     ]
    }
   ],
   "source": [
    "test={'pet':20,'dog':40,'mary':60}\n",
    "lis.append(test)\n",
    "print(lis)"
   ]
  },
  {
   "cell_type": "code",
   "execution_count": 12,
   "id": "d08a7758",
   "metadata": {},
   "outputs": [
    {
     "name": "stdout",
     "output_type": "stream",
     "text": [
      "{'nisrb', (1, 3, 6), 1}\n",
      "<class 'set'>\n"
     ]
    }
   ],
   "source": [
    "my={1,'nisrb',(1,3,6)}\n",
    "print(my)\n",
    "print(type(my))"
   ]
  },
  {
   "cell_type": "code",
   "execution_count": 15,
   "id": "37eca055",
   "metadata": {},
   "outputs": [
    {
     "name": "stdout",
     "output_type": "stream",
     "text": [
      "joon makes 2010.\n",
      "keoi makes 1800.\n",
      "mary makes 3200.\n",
      "juen makes 2040.\n"
     ]
    }
   ],
   "source": [
    "lis0=[30,40,50,60]\n",
    "lis1=[67,45,64,34]\n",
    "lis2=['joon','keoi','mary','juen']\n",
    "free=[]\n",
    "for num in range(len(lis2)):\n",
    "    hrs=lis0[num]\n",
    "    year=lis1[num]\n",
    "    fee=hrs*year\n",
    "    free.append(fee)\n",
    "    money_made=lis2[num]+' makes '+str(fee)+'.'\n",
    "    print(money_made)"
   ]
  },
  {
   "cell_type": "code",
   "execution_count": 17,
   "id": "f55d816f",
   "metadata": {},
   "outputs": [
    {
     "name": "stdout",
     "output_type": "stream",
     "text": [
      "0 red\n",
      "1 blue is printed\n",
      "2 green\n",
      "3 yellow\n",
      "4 black\n",
      "this is done\n"
     ]
    }
   ],
   "source": [
    "my_lis=[]\n",
    "my_lis.append(lis2)\n",
    "my_lis.append(free)\n",
    "me=['red','blue','green','yellow','black']\n",
    "index=0\n",
    "for i in me:\n",
    "    if i=='blue':\n",
    "        print(index,'blue is printed')\n",
    "        index+=1\n",
    "    else:\n",
    "        print(index,me[index])\n",
    "        index+=1\n",
    "print('this is done')"
   ]
  },
  {
   "cell_type": "code",
   "execution_count": 18,
   "id": "45281b1a",
   "metadata": {},
   "outputs": [
    {
     "name": "stdout",
     "output_type": "stream",
     "text": [
      "   Product ID Product NAME   Color  Units sold\n",
      "0           1      T-shirt    Blue         250\n",
      "1           2        Shirt   Green         300\n",
      "2           3        Jeans     Red         180\n",
      "3           4         Coat  Trench         200\n"
     ]
    }
   ],
   "source": [
    "import pandas as pd\n",
    "df1=pd.DataFrame({\n",
    "    \"Product ID\":[1,2,3,4],\n",
    "    \"Product NAME\":[\"T-shirt\",\"Shirt\",\"Jeans\",\"Coat\"],\n",
    "    \"Color\":[\"Blue\",\"Green\",\"Red\",\"Trench\"],\n",
    "    \"Units sold\":[250,300,180,200]\n",
    "})\n",
    "print(df1)"
   ]
  },
  {
   "cell_type": "code",
   "execution_count": null,
   "id": "71f292ab",
   "metadata": {},
   "outputs": [],
   "source": []
  }
 ],
 "metadata": {
  "kernelspec": {
   "display_name": "Python 3 (ipykernel)",
   "language": "python",
   "name": "python3"
  },
  "language_info": {
   "codemirror_mode": {
    "name": "ipython",
    "version": 3
   },
   "file_extension": ".py",
   "mimetype": "text/x-python",
   "name": "python",
   "nbconvert_exporter": "python",
   "pygments_lexer": "ipython3",
   "version": "3.9.13"
  }
 },
 "nbformat": 4,
 "nbformat_minor": 5
}
